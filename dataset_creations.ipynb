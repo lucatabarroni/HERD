{
 "cells": [
  {
   "cell_type": "code",
   "execution_count": 1,
   "id": "a09babc5-583f-433a-beac-2ab393774854",
   "metadata": {},
   "outputs": [],
   "source": [
    "import numpy as np\n",
    "import uproot\n",
    "import pandas as pd\n",
    "from sklearn.model_selection import train_test_split\n",
    "import os\n",
    "import pickle"
   ]
  },
  {
   "cell_type": "code",
   "execution_count": 2,
   "id": "cc09b4f7-e103-4d54-a0cf-35589ac00bce",
   "metadata": {},
   "outputs": [],
   "source": [
    "tree_name=\"showersTree;1\""
   ]
  },
  {
   "cell_type": "code",
   "execution_count": 3,
   "id": "acea4338-1717-466e-9c8e-5ce1812b82b9",
   "metadata": {},
   "outputs": [],
   "source": [
    "electrons_100GeV_1TeV_path='/home/minio/scratch/formato/showerpics/electrons_100GeV_1TeV/'\n",
    "electrons_100GeV_1TeV_list = [os.path.join(electrons_100GeV_1TeV_path, file) for file in os.listdir(electrons_100GeV_1TeV_path)]\n",
    "electrons_100GeV_1TeV_list_tree = [\"{}:{}\".format(file, tree_name) for file in electrons_100GeV_1TeV_list]"
   ]
  },
  {
   "cell_type": "code",
   "execution_count": 4,
   "id": "db447167-6b18-45db-b701-30ecfb792c96",
   "metadata": {},
   "outputs": [],
   "source": [
    "electrons_1TeV_20TeV_path='/home/minio/scratch/formato/showerpics/electrons_1TeV_20TeV/'\n",
    "electrons_1TeV_20TeV_list = [os.path.join(electrons_1TeV_20TeV_path, file) for file in os.listdir(electrons_1TeV_20TeV_path)]\n",
    "electrons_1TeV_20TeV_list_tree = [\"{}:{}\".format(file, tree_name) for file in electrons_1TeV_20TeV_list]"
   ]
  },
  {
   "cell_type": "code",
   "execution_count": 5,
   "id": "37de373a-885d-4950-a14c-d368c3d6cc82",
   "metadata": {},
   "outputs": [],
   "source": [
    "protons_100GeV_1TeV_path='/home/minio/scratch/formato/showerpics/protons_100GeV_1TeV/'\n",
    "protons_100GeV_1TeV_list = [os.path.join(protons_100GeV_1TeV_path, file) for file in os.listdir(protons_100GeV_1TeV_path)]\n",
    "protons_100GeV_1TeV_list_tree = [\"{}:{}\".format(file, tree_name) for file in protons_100GeV_1TeV_list]"
   ]
  },
  {
   "cell_type": "code",
   "execution_count": 6,
   "id": "a98b93ae-d6f9-430a-8189-091d4e8bc162",
   "metadata": {},
   "outputs": [],
   "source": [
    "protons_1TeV_10TeV_path='/home/minio/scratch/formato/showerpics/protons_1TeV_10TeV/'\n",
    "protons_1TeV_10TeV_list = [os.path.join(protons_1TeV_10TeV_path, file) for file in os.listdir(protons_1TeV_10TeV_path)]\n",
    "protons_1TeV_10TeV_list_tree = [\"{}:{}\".format(file, tree_name) for file in protons_1TeV_10TeV_list]"
   ]
  },
  {
   "cell_type": "code",
   "execution_count": null,
   "id": "d312a226-d9ce-4f1c-b75b-cc3f8b47027e",
   "metadata": {},
   "outputs": [],
   "source": [
    "num_events_electrons_100GeV_1TeV=[]\n",
    "for file in electrons_100GeV_1TeV_list:\n",
    "    # Apri il file e ottieni il numero di eventi\n",
    "    with uproot.open(os.path.join(electrons_100GeV_1TeV_path, file)) as f:\n",
    "        num_events_electrons_100GeV_1TeV.append((f[tree_name].num_entries))"
   ]
  },
  {
   "cell_type": "code",
   "execution_count": 19,
   "id": "61ba21ff-9055-439b-bc39-bf1a178bbbf9",
   "metadata": {},
   "outputs": [],
   "source": [
    "num_events_electrons_1TeV_20TeV=[]\n",
    "for file in electrons_1TeV_20TeV_list:\n",
    "    # Apri il file e ottieni il numero di eventi\n",
    "    with uproot.open(os.path.join(electrons_1TeV_20TeV_path, file)) as f:\n",
    "        num_events_electrons_1TeV_20TeV.append((f[tree_name].num_entries))"
   ]
  },
  {
   "cell_type": "code",
   "execution_count": 20,
   "id": "dcd8e5a6-1103-4012-8ed2-56bc99bb0f6c",
   "metadata": {},
   "outputs": [],
   "source": [
    "num_events_protons_100GeV_1TeV=[]\n",
    "for file in protons_100GeV_1TeV_list:\n",
    "    # Apri il file e ottieni il numero di eventi\n",
    "    with uproot.open(os.path.join(protons_100GeV_1TeV_path, file)) as f:\n",
    "        num_events_protons_100GeV_1TeV.append((f[tree_name].num_entries))"
   ]
  },
  {
   "cell_type": "code",
   "execution_count": 21,
   "id": "c7b02324-500c-4384-9490-ed0c44030366",
   "metadata": {},
   "outputs": [],
   "source": [
    "num_events_protons_1TeV_10TeV=[]\n",
    "for file in protons_1TeV_10TeV_list:\n",
    "    # Apri il file e ottieni il numero di eventi\n",
    "    with uproot.open(os.path.join(protons_1TeV_10TeV_path, file)) as f:\n",
    "        num_events_protons_1TeV_10TeV.append((f[tree_name].num_entries))"
   ]
  },
  {
   "cell_type": "code",
   "execution_count": 22,
   "id": "7aed43c0-e071-418c-9bf1-101597e316b9",
   "metadata": {},
   "outputs": [],
   "source": [
    "electrons_path=electrons_100GeV_1TeV_list+electrons_1TeV_20TeV_list"
   ]
  },
  {
   "cell_type": "code",
   "execution_count": 23,
   "id": "02b158d3-4fc9-4983-ad7d-73e4df296ed3",
   "metadata": {},
   "outputs": [],
   "source": [
    "protons_path=protons_100GeV_1TeV_list+protons_1TeV_10TeV_list"
   ]
  },
  {
   "cell_type": "code",
   "execution_count": 24,
   "id": "2ae5ec1f-2f33-4449-ad08-2d6beb21b138",
   "metadata": {},
   "outputs": [],
   "source": [
    "electrons_size=num_events_electrons_100GeV_1TeV+num_events_electrons_1TeV_20TeV"
   ]
  },
  {
   "cell_type": "code",
   "execution_count": 25,
   "id": "98e35aae-3a31-4049-85a5-6f4ce13f7021",
   "metadata": {},
   "outputs": [],
   "source": [
    "protons_size=num_events_protons_100GeV_1TeV+num_events_protons_1TeV_10TeV"
   ]
  },
  {
   "cell_type": "code",
   "execution_count": 26,
   "id": "edab8256-861e-4633-bc94-7c4d11ad23f2",
   "metadata": {},
   "outputs": [],
   "source": [
    "electrons_100GeV_1TeV_path_size=zip(electrons_100GeV_1TeV_list,num_events_electrons_100GeV_1TeV)"
   ]
  },
  {
   "cell_type": "code",
   "execution_count": 27,
   "id": "8131d5be-e975-404a-b00a-b56897e93be8",
   "metadata": {},
   "outputs": [],
   "source": [
    "electrons_1TeV_20TeV_path_size=zip(electrons_1TeV_20TeV_list,num_events_electrons_1TeV_20TeV)"
   ]
  },
  {
   "cell_type": "code",
   "execution_count": 28,
   "id": "47419787-bc1b-4219-9c84-435a58b15eaa",
   "metadata": {},
   "outputs": [],
   "source": [
    "electrons_100GeV_1TeV_path_size=list(electrons_100GeV_1TeV_path_size)"
   ]
  },
  {
   "cell_type": "code",
   "execution_count": 29,
   "id": "8b8d526f-45ea-4386-a225-377890dd7997",
   "metadata": {},
   "outputs": [],
   "source": [
    "electrons_1TeV_20TeV_path_size=list(electrons_1TeV_20TeV_path_size)"
   ]
  },
  {
   "cell_type": "code",
   "execution_count": 30,
   "id": "b1327011-70ee-4ede-96de-f701a12772ee",
   "metadata": {},
   "outputs": [],
   "source": [
    "protons_100GeV_1TeV_path_size=zip(protons_100GeV_1TeV_list,num_events_protons_100GeV_1TeV)"
   ]
  },
  {
   "cell_type": "code",
   "execution_count": 31,
   "id": "7b4bf7ff-7a56-4d3a-b2c0-2a61078bb6ac",
   "metadata": {},
   "outputs": [],
   "source": [
    "protons_1TeV_10TeV_path_size=zip(protons_1TeV_10TeV_list,num_events_protons_1TeV_10TeV)"
   ]
  },
  {
   "cell_type": "code",
   "execution_count": 32,
   "id": "296f3dcb-b5e1-4876-8663-9b93ecf1741e",
   "metadata": {},
   "outputs": [],
   "source": [
    "protons_100GeV_1TeV_path_size=list(protons_100GeV_1TeV_path_size)"
   ]
  },
  {
   "cell_type": "code",
   "execution_count": 33,
   "id": "6e423117-2339-4d74-9561-c2caef181251",
   "metadata": {},
   "outputs": [],
   "source": [
    "protons_1TeV_10TeV_path_size=list(protons_1TeV_10TeV_path_size)"
   ]
  },
  {
   "cell_type": "code",
   "execution_count": 34,
   "id": "5e15e67b-0859-4655-93ca-9fbcf9930955",
   "metadata": {},
   "outputs": [],
   "source": [
    "electrons_path_size=zip(electrons_path,electrons_size)"
   ]
  },
  {
   "cell_type": "code",
   "execution_count": 35,
   "id": "010821eb-85b8-4d55-b29e-9535301d7933",
   "metadata": {},
   "outputs": [],
   "source": [
    "protons_path_size=zip(protons_path,protons_size)"
   ]
  },
  {
   "cell_type": "code",
   "execution_count": 36,
   "id": "52b28333-e72a-4f97-b2a7-ede6cab3e643",
   "metadata": {},
   "outputs": [],
   "source": [
    "electrons_path_size=list(electrons_path_size)"
   ]
  },
  {
   "cell_type": "code",
   "execution_count": 37,
   "id": "9584f960-3a5e-4447-bcd2-b77b1d8b68d0",
   "metadata": {},
   "outputs": [],
   "source": [
    "protons_path_size=list(protons_path_size)"
   ]
  },
  {
   "cell_type": "code",
   "execution_count": 38,
   "id": "20f163d8-7fda-4772-8207-83e770a20d27",
   "metadata": {},
   "outputs": [],
   "source": [
    "dataset_path=electrons_path+protons_path"
   ]
  },
  {
   "cell_type": "code",
   "execution_count": 39,
   "id": "d20cfabf-f53a-4f63-9be2-fea94d0f63bc",
   "metadata": {},
   "outputs": [],
   "source": [
    "dataset_size=electrons_size+protons_size"
   ]
  },
  {
   "cell_type": "code",
   "execution_count": 40,
   "id": "b5b99d2a-18aa-4bcc-bf3a-ae34e3b9aed7",
   "metadata": {},
   "outputs": [],
   "source": [
    "dataset_path_size=zip(dataset_path,dataset_size)"
   ]
  },
  {
   "cell_type": "code",
   "execution_count": 41,
   "id": "a7977dab-9b3d-4a02-b9e0-7fbd28f5e781",
   "metadata": {},
   "outputs": [],
   "source": [
    "dataset_path_size=list(dataset_path_size)"
   ]
  },
  {
   "cell_type": "code",
   "execution_count": 42,
   "id": "855c9a22-39af-4df1-8485-e5072f319418",
   "metadata": {},
   "outputs": [],
   "source": [
    "with open('electrons_100GeV_1TeV_path_size','wb') as file:\n",
    "    pickle.dump(electrons_100GeV_1TeV_path_size,file)"
   ]
  },
  {
   "cell_type": "code",
   "execution_count": 43,
   "id": "a2805e08-1763-4c2f-b4fc-30457c3ce56b",
   "metadata": {},
   "outputs": [],
   "source": [
    "with open('electrons_1TeV_20TeV_path_size','wb') as file:\n",
    "    pickle.dump(electrons_1TeV_20TeV_path_size,file)"
   ]
  },
  {
   "cell_type": "code",
   "execution_count": 44,
   "id": "97f9a2cc-d34f-4f02-9960-c41d1d9ef89f",
   "metadata": {},
   "outputs": [],
   "source": [
    "with open('protons_100GeV_1TeV_path_size','wb') as file:\n",
    "    pickle.dump(protons_100GeV_1TeV_path_size,file)"
   ]
  },
  {
   "cell_type": "code",
   "execution_count": 45,
   "id": "c8b85bf8-15ff-4bfd-b64d-90f6720175bc",
   "metadata": {},
   "outputs": [],
   "source": [
    "with open('protons_1TeV_10TeV_path_size','wb') as file:\n",
    "    pickle.dump(protons_1TeV_10TeV_path_size,file)"
   ]
  },
  {
   "cell_type": "code",
   "execution_count": 46,
   "id": "7fc8ddba-8d9f-4ddf-970f-5f6e2f4a4971",
   "metadata": {},
   "outputs": [],
   "source": [
    "with open('dataset_path_size', 'wb') as file:\n",
    "    pickle.dump(dataset_path_size,file)"
   ]
  },
  {
   "cell_type": "code",
   "execution_count": 47,
   "id": "9f55ae1a-5fcd-439d-a136-fc0ea9aae218",
   "metadata": {},
   "outputs": [],
   "source": [
    "with open('electrons_path_size', 'wb') as file:\n",
    "    pickle.dump(electrons_path_size,file)"
   ]
  },
  {
   "cell_type": "code",
   "execution_count": 48,
   "id": "8410bf46-1a48-4817-a88e-9a42714a5be6",
   "metadata": {},
   "outputs": [],
   "source": [
    "with open('protons_path_size', 'wb') as file:\n",
    "    pickle.dump(protons_path_size,file)"
   ]
  },
  {
   "cell_type": "code",
   "execution_count": 49,
   "id": "d76e621d-2e9c-45dd-bf53-67ca410229e4",
   "metadata": {},
   "outputs": [],
   "source": [
    "with open('num_events_electrons_100GeV_1TeV_train', 'wb') as f:\n",
    "    pickle.dump(num_events_electrons_100GeV_1TeV, f)\n",
    "\n",
    "with open('num_events_electrons_1TeV_20TeV_train', 'wb') as f:\n",
    "    pickle.dump(num_events_electrons_1TeV_20TeV, f)\n",
    "\n",
    "with open('num_events_protons_100GeV_1TeV_train', 'wb') as f:\n",
    "    pickle.dump(num_events_protons_100GeV_1TeV, f)\n",
    "\n",
    "with open('num_events_protons_1TeV_10TeV_train', 'wb') as f:\n",
    "    pickle.dump(num_events_protons_1TeV_10TeV, f)"
   ]
  },
  {
   "cell_type": "code",
   "execution_count": 50,
   "id": "86a71133-2fab-4a95-bb26-90e19af83237",
   "metadata": {},
   "outputs": [],
   "source": [
    "electrons_100GeV_1TeV_names_root=os.listdir(electrons_100GeV_1TeV_path)\n",
    "electrons_100GeV_1TeV_names_pkl = [os.path.splitext(file)[0] + '.pkl' for file in electrons_100GeV_1TeV_names_root]"
   ]
  },
  {
   "cell_type": "code",
   "execution_count": 51,
   "id": "cb92e779-7e93-4cfb-bf35-aa7e4a4ccad4",
   "metadata": {},
   "outputs": [],
   "source": [
    "electrons_1TeV_20TeV_names_root=os.listdir(electrons_1TeV_20TeV_path)\n",
    "electrons_1TeV_20TeV_names_pkl = [os.path.splitext(file)[0] + '.pkl' for file in electrons_1TeV_20TeV_names_root]"
   ]
  },
  {
   "cell_type": "code",
   "execution_count": 52,
   "id": "5f3887ae-d3bd-48da-b0bc-7b5302b808e7",
   "metadata": {},
   "outputs": [],
   "source": [
    "protons_100GeV_1TeV_names_root=os.listdir(protons_100GeV_1TeV_path)\n",
    "protons_100GeV_1TeV_names_pkl = [os.path.splitext(file)[0] + '.pkl' for file in protons_100GeV_1TeV_names_root]"
   ]
  },
  {
   "cell_type": "code",
   "execution_count": 53,
   "id": "4136003f-dd0c-4343-9744-0e654e520503",
   "metadata": {},
   "outputs": [],
   "source": [
    "protons_1TeV_10TeV_names_root=os.listdir(protons_1TeV_10TeV_path)\n",
    "protons_1TeV_10TeV_names_pkl = [os.path.splitext(file)[0] + '.pkl' for file in protons_1TeV_10TeV_names_root]"
   ]
  },
  {
   "cell_type": "code",
   "execution_count": 54,
   "id": "2edc01b0-c813-4406-bbb1-f70cdf9445f8",
   "metadata": {},
   "outputs": [],
   "source": [
    "with open('electrons_100GeV_1TeV_names_pkl', 'wb') as f:\n",
    "    pickle.dump(electrons_100GeV_1TeV_names_pkl, f)\n",
    "\n",
    "with open('electrons_1TeV_20TeV_names_pkl', 'wb') as f:\n",
    "    pickle.dump(electrons_1TeV_20TeV_names_pkl, f)\n",
    "\n",
    "with open('protons_100GeV_1TeV_names_pkl', 'wb') as f:\n",
    "    pickle.dump(protons_100GeV_1TeV_names_pkl, f)\n",
    "\n",
    "with open('protons_1TeV_10TeV_names_pkl', 'wb') as f:\n",
    "    pickle.dump(protons_1TeV_10TeV_names_pkl, f)"
   ]
  }
 ],
 "metadata": {
  "kernelspec": {
   "display_name": "HEP with PyROOT",
   "language": "python",
   "name": "hep"
  },
  "language_info": {
   "codemirror_mode": {
    "name": "ipython",
    "version": 3
   },
   "file_extension": ".py",
   "mimetype": "text/x-python",
   "name": "python",
   "nbconvert_exporter": "python",
   "pygments_lexer": "ipython3",
   "version": "3.9.15"
  }
 },
 "nbformat": 4,
 "nbformat_minor": 5
}
