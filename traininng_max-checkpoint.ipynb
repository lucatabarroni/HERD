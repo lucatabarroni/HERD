{
 "cells": [
  {
   "cell_type": "code",
   "execution_count": 1,
   "id": "69d0ee96-081a-42a5-973a-7fa451a406b4",
   "metadata": {},
   "outputs": [
    {
     "name": "stderr",
     "output_type": "stream",
     "text": [
      "2024-05-02 15:32:15.415169: I tensorflow/core/util/util.cc:169] oneDNN custom operations are on. You may see slightly different numerical results due to floating-point round-off errors from different computation orders. To turn them off, set the environment variable `TF_ENABLE_ONEDNN_OPTS=0`.\n",
      "2024-05-02 15:32:23.837985: I tensorflow/stream_executor/cuda/cuda_gpu_executor.cc:975] successful NUMA node read from SysFS had negative value (-1), but there must be at least one NUMA node, so returning NUMA node zero\n",
      "2024-05-02 15:32:23.970845: I tensorflow/stream_executor/cuda/cuda_gpu_executor.cc:975] successful NUMA node read from SysFS had negative value (-1), but there must be at least one NUMA node, so returning NUMA node zero\n",
      "2024-05-02 15:32:23.971206: I tensorflow/stream_executor/cuda/cuda_gpu_executor.cc:975] successful NUMA node read from SysFS had negative value (-1), but there must be at least one NUMA node, so returning NUMA node zero\n"
     ]
    },
    {
     "data": {
      "text/plain": [
       "[PhysicalDevice(name='/physical_device:GPU:0', device_type='GPU')]"
      ]
     },
     "execution_count": 1,
     "metadata": {},
     "output_type": "execute_result"
    }
   ],
   "source": [
    "import tensorflow as tf\n",
    "tf.config.list_physical_devices('GPU')"
   ]
  },
  {
   "cell_type": "code",
   "execution_count": 2,
   "id": "c21a6f94-6f4a-4cd7-86a8-b05ee79d66d8",
   "metadata": {},
   "outputs": [],
   "source": [
    "import numpy as np\n",
    "from keras.applications.inception_v3 import InceptionV3\n",
    "from tensorflow.keras import layers, models\n",
    "from keras.models import Model\n",
    "from keras.layers import Dense, GlobalAveragePooling2D\n",
    "import pickle\n",
    "import random\n",
    "from keras.optimizers import SGD\n",
    "from keras.utils import plot_model\n",
    "import pandas as pd\n",
    "import uproot as up\n",
    "import gc"
   ]
  },
  {
   "cell_type": "code",
   "execution_count": 3,
   "id": "415d7c4a-8677-4c71-aae2-3847e4e98ba0",
   "metadata": {},
   "outputs": [],
   "source": [
    "with open('electrons_100GeV_1TeV_path_size','rb') as f:\n",
    "    electrons_100GeV_1TeV_path_size=pickle.load(f)"
   ]
  },
  {
   "cell_type": "code",
   "execution_count": 4,
   "id": "de15f391-99b4-4ecc-957e-d13320b4cb78",
   "metadata": {},
   "outputs": [],
   "source": [
    "with open('electrons_1TeV_20TeV_path_size','rb') as f:\n",
    "    electrons_1TeV_20TeV_path_size=pickle.load(f)"
   ]
  },
  {
   "cell_type": "code",
   "execution_count": 5,
   "id": "3820ccb1-be1c-42d2-823d-0a6ebd3c064d",
   "metadata": {},
   "outputs": [],
   "source": [
    "with open('protons_100GeV_1TeV_path_size','rb') as f:\n",
    "    protons_100GeV_1TeV_path_size=pickle.load(f)"
   ]
  },
  {
   "cell_type": "code",
   "execution_count": 6,
   "id": "93c2a457-dfff-4c6d-b960-2a4961044acd",
   "metadata": {},
   "outputs": [],
   "source": [
    "with open('protons_1TeV_10TeV_path_size','rb') as f:\n",
    "    protons_1TeV_10TeV_path_size=pickle.load(f)"
   ]
  },
  {
   "cell_type": "code",
   "execution_count": 7,
   "id": "b1402c68-4f4b-4309-b314-052edf79f253",
   "metadata": {},
   "outputs": [],
   "source": [
    "electrons_100GeV_1TeV_path=[row[0] for row in electrons_100GeV_1TeV_path_size]"
   ]
  },
  {
   "cell_type": "code",
   "execution_count": 8,
   "id": "2887c2ea-b7ec-434e-a412-073fc179384d",
   "metadata": {},
   "outputs": [],
   "source": [
    "electrons_1TeV_20TeV_path=[row[0] for row in electrons_1TeV_20TeV_path_size]"
   ]
  },
  {
   "cell_type": "code",
   "execution_count": 9,
   "id": "e7de07d7-7df9-493b-b4d0-5b23d992dcb1",
   "metadata": {},
   "outputs": [],
   "source": [
    "protons_100GeV_1TeV_path=[row[0] for row in protons_100GeV_1TeV_path_size]"
   ]
  },
  {
   "cell_type": "code",
   "execution_count": 10,
   "id": "664f78da-1966-464a-9a28-640dff835c73",
   "metadata": {},
   "outputs": [],
   "source": [
    "protons_1TeV_10TeV_path=[row[0] for row in protons_1TeV_10TeV_path_size]"
   ]
  },
  {
   "cell_type": "code",
   "execution_count": 11,
   "id": "f172470e-674c-4985-952e-44e0627ee4ad",
   "metadata": {},
   "outputs": [],
   "source": [
    "electrons_100GeV_1TeV_size=[row[1] for row in electrons_100GeV_1TeV_path_size]"
   ]
  },
  {
   "cell_type": "code",
   "execution_count": 12,
   "id": "49d05b89-3549-4bad-92c2-85ea9f2448e2",
   "metadata": {},
   "outputs": [],
   "source": [
    "electrons_1TeV_20TeV_size=[row[1] for row in electrons_1TeV_20TeV_path_size]"
   ]
  },
  {
   "cell_type": "code",
   "execution_count": 13,
   "id": "f1b591dc-9cf3-4ff2-b25e-1c264c801cd4",
   "metadata": {},
   "outputs": [],
   "source": [
    "protons_100GeV_1TeV_size=[row[1] for row in protons_100GeV_1TeV_path_size]"
   ]
  },
  {
   "cell_type": "code",
   "execution_count": 14,
   "id": "16ef25bf-cb89-45e9-9d7c-e80724f22b33",
   "metadata": {},
   "outputs": [],
   "source": [
    "protons_1TeV_10TeV_size=[row[1] for row in protons_1TeV_10TeV_path_size]"
   ]
  },
  {
   "cell_type": "code",
   "execution_count": 15,
   "id": "8ab0f10b-5104-47be-9953-2eeaf21475a1",
   "metadata": {},
   "outputs": [],
   "source": [
    "electrons_100GeV_1TeV_training_size=sum(electrons_100GeV_1TeV_size)/2"
   ]
  },
  {
   "cell_type": "code",
   "execution_count": 16,
   "id": "8d01bbdb-4d84-46c4-b0bf-428aae610641",
   "metadata": {},
   "outputs": [],
   "source": [
    "electrons_1TeV_20TeV_training_size=sum(electrons_1TeV_20TeV_size)/2"
   ]
  },
  {
   "cell_type": "code",
   "execution_count": 17,
   "id": "e98b0477-257c-4e15-b296-4a759b102d34",
   "metadata": {},
   "outputs": [],
   "source": [
    "protons_100GeV_1TeV_training_size=sum(protons_100GeV_1TeV_size)/2"
   ]
  },
  {
   "cell_type": "code",
   "execution_count": 18,
   "id": "f9c720a9-c5e0-4913-800e-9e42ac74a253",
   "metadata": {},
   "outputs": [],
   "source": [
    "protons_1TeV_10TeV_training_size=sum(protons_1TeV_10TeV_size)/2"
   ]
  },
  {
   "cell_type": "code",
   "execution_count": 19,
   "id": "e48d5c80-abb2-48ca-a530-82f0b856b38e",
   "metadata": {},
   "outputs": [],
   "source": [
    "somma=0\n",
    "for i in range(len(electrons_100GeV_1TeV_size)):\n",
    "    somma+=electrons_100GeV_1TeV_size[i]\n",
    "    if somma > electrons_100GeV_1TeV_training_size:\n",
    "        final_electrons_100GeV_1TeV_training_file=i\n",
    "        break"
   ]
  },
  {
   "cell_type": "code",
   "execution_count": 20,
   "id": "55d81fd6-20b0-4be8-8fec-60a6b008bd93",
   "metadata": {},
   "outputs": [],
   "source": [
    "somma=0\n",
    "for i in range(len(electrons_1TeV_20TeV_size)):\n",
    "    somma+=electrons_1TeV_20TeV_size[i]\n",
    "    if somma > electrons_1TeV_20TeV_training_size:\n",
    "        final_electrons_1TeV_20TeV_training_file=i\n",
    "        break"
   ]
  },
  {
   "cell_type": "code",
   "execution_count": 21,
   "id": "5ed159aa-3245-49fa-b915-4a8d98bf520e",
   "metadata": {},
   "outputs": [],
   "source": [
    "somma=0\n",
    "for i in range(len(protons_100GeV_1TeV_size)):\n",
    "    somma+=protons_100GeV_1TeV_size[i]\n",
    "    if somma > protons_100GeV_1TeV_training_size:\n",
    "        final_protons_100GeV_1TeV_training_file=i\n",
    "        break"
   ]
  },
  {
   "cell_type": "code",
   "execution_count": 22,
   "id": "39b00fb1-1f8d-4804-a74c-e132a1760615",
   "metadata": {},
   "outputs": [],
   "source": [
    "somma=0\n",
    "for i in range(len(protons_1TeV_10TeV_size)):\n",
    "    somma+=protons_1TeV_10TeV_size[i]\n",
    "    if somma > protons_1TeV_10TeV_training_size:\n",
    "        final_protons_1TeV_10TeV_training_file=i\n",
    "        break"
   ]
  },
  {
   "cell_type": "code",
   "execution_count": 23,
   "id": "223c40a6-aaa5-4fe1-900d-9297ff1b7e76",
   "metadata": {},
   "outputs": [],
   "source": [
    "electrons_100GeV_1TeV_path_tree=[name+':showersTree;1' for name in electrons_100GeV_1TeV_path]"
   ]
  },
  {
   "cell_type": "code",
   "execution_count": 24,
   "id": "62bddaac-a0e3-4249-a3ef-b9f999a99a49",
   "metadata": {},
   "outputs": [],
   "source": [
    "electrons_1TeV_20TeV_path_tree=[name+':showersTree;1' for name in electrons_1TeV_20TeV_path]"
   ]
  },
  {
   "cell_type": "code",
   "execution_count": 25,
   "id": "16704971-ae56-4120-884f-c8354b16dd86",
   "metadata": {},
   "outputs": [],
   "source": [
    "protons_100GeV_1TeV_path_tree=[name+':showersTree;1' for name in protons_100GeV_1TeV_path]"
   ]
  },
  {
   "cell_type": "code",
   "execution_count": 26,
   "id": "82c1a418-9342-4778-9075-5107dedb0177",
   "metadata": {},
   "outputs": [],
   "source": [
    "protons_1TeV_10TeV_path_tree=[name+':showersTree;1' for name in protons_1TeV_10TeV_path]"
   ]
  },
  {
   "cell_type": "code",
   "execution_count": 27,
   "id": "c30e1920-1d98-4df4-9ddd-d3191ec91927",
   "metadata": {},
   "outputs": [
    {
     "name": "stdout",
     "output_type": "stream",
     "text": [
      "110\n",
      "1029\n",
      "242\n",
      "2291\n"
     ]
    }
   ],
   "source": [
    "print(final_electrons_100GeV_1TeV_training_file)\n",
    "print(final_electrons_1TeV_20TeV_training_file)\n",
    "print(final_protons_100GeV_1TeV_training_file)\n",
    "print(final_protons_1TeV_10TeV_training_file)"
   ]
  },
  {
   "cell_type": "code",
   "execution_count": 28,
   "id": "8647036a-90ed-4e13-b5cc-fcab4c2ffcc7",
   "metadata": {},
   "outputs": [],
   "source": [
    "max_values=[]\n",
    "min_values=[]"
   ]
  },
  {
   "cell_type": "code",
   "execution_count": null,
   "id": "e0ac9b35-c9f6-443a-b5c4-0a2268f7877d",
   "metadata": {},
   "outputs": [],
   "source": [
    "import warnings\n",
    "warnings.filterwarnings('ignore')\n",
    "i=0\n",
    "for file_name in electrons_100GeV_1TeV_path_tree[:final_electrons_100GeV_1TeV_training_file]:\n",
    "    for df in up.iterate(file_name,'deps2D',library=\"pd\", step_size='500MB'):\n",
    "        max_values.append(df.max())\n",
    "        min_values.append(df.min())\n",
    "        del df\n",
    "        gc.collect()\n",
    "        print(i)\n",
    "    i=i+1\n",
    "print(i)"
   ]
  },
  {
   "cell_type": "code",
   "execution_count": null,
   "id": "87b0fd5f-a757-4cc9-a6ab-4780079202b1",
   "metadata": {},
   "outputs": [],
   "source": [
    "import warnings\n",
    "warnings.filterwarnings('ignore')\n",
    "i=0\n",
    "for file_name in electrons_1TeV_20TeV_path_tree[:final_electrons_1TeV_20TeV_training_file]:\n",
    "    for df in up.iterate(file_name,'deps2D',library=\"pd\", step_size='500MB'):\n",
    "        max_values.append(df.max())\n",
    "        min_values.append(df.min())\n",
    "        del df\n",
    "        gc.collect()\n",
    "        print(i)\n",
    "    i=i+1\n",
    "print(i)"
   ]
  },
  {
   "cell_type": "code",
   "execution_count": null,
   "id": "41124542-dcaf-4e31-b57c-fc4d4eeced34",
   "metadata": {},
   "outputs": [],
   "source": [
    "import warnings\n",
    "warnings.filterwarnings('ignore')\n",
    "i=0\n",
    "for file_name in protons_100GeV_1TeV_path_tree[:final_protons_100GeV_1TeV_training_file]:\n",
    "    for df in up.iterate(file_name,'deps2D',library=\"pd\", step_size='500MB'):\n",
    "        max_values.append(df.max())\n",
    "        min_values.append(df.min())\n",
    "        print(i)\n",
    "        del df\n",
    "        gc.collect()\n",
    "    i=i+1"
   ]
  },
  {
   "cell_type": "code",
   "execution_count": null,
   "id": "2a219e5f-fa6a-40e2-834d-a30016ea0903",
   "metadata": {},
   "outputs": [],
   "source": [
    "import warnings\n",
    "warnings.filterwarnings('ignore')\n",
    "i=0\n",
    "for file_name in protons_1TeV_10TeV_path_tree[:final_protons_1TeV_10TeV_training_file]:\n",
    "    for df in up.iterate(file_name,'deps2D',library=\"pd\", step_size='500MB'):\n",
    "        max_values.append(df.max())\n",
    "        min_values.append(df.min())\n",
    "        print(i)\n",
    "        del df\n",
    "        gc.collect()\n",
    "    i=i+1"
   ]
  },
  {
   "cell_type": "code",
   "execution_count": 33,
   "id": "dea951b8-697b-48d8-9fbf-59d07263893d",
   "metadata": {},
   "outputs": [
    {
     "data": {
      "text/plain": [
       "3672"
      ]
     },
     "execution_count": 33,
     "metadata": {},
     "output_type": "execute_result"
    }
   ],
   "source": [
    "len(max_values)"
   ]
  },
  {
   "cell_type": "code",
   "execution_count": null,
   "id": "da0b35e3-c1f1-4ea1-8dbd-cde373962f6c",
   "metadata": {},
   "outputs": [],
   "source": [
    "max_values"
   ]
  },
  {
   "cell_type": "code",
   "execution_count": 44,
   "id": "63b420ec-09b8-4af3-9d88-2d8e77e221df",
   "metadata": {},
   "outputs": [],
   "source": [
    "max_list = [series.values[0] for series in max_values]"
   ]
  },
  {
   "cell_type": "code",
   "execution_count": 80,
   "id": "d476ff37-e3f5-451b-871f-cb0246c4441e",
   "metadata": {},
   "outputs": [],
   "source": [
    "max=max(max_list)"
   ]
  },
  {
   "cell_type": "code",
   "execution_count": 46,
   "id": "f2103204-269a-464d-bdb8-d634dc8b762d",
   "metadata": {},
   "outputs": [],
   "source": [
    "min_list = [series.values[0] for series in min_values]"
   ]
  },
  {
   "cell_type": "code",
   "execution_count": 81,
   "id": "0ac140b4-ea99-48e9-8807-57f760ffce96",
   "metadata": {},
   "outputs": [],
   "source": [
    "min=min(min_list)"
   ]
  },
  {
   "cell_type": "code",
   "execution_count": 48,
   "id": "da2d112e-84d5-4c6f-b436-1df8e7296cf4",
   "metadata": {},
   "outputs": [],
   "source": [
    "with open('max_training_values','wb') as f:\n",
    "    pickle.dump(max(max_list),f)"
   ]
  },
  {
   "cell_type": "code",
   "execution_count": 49,
   "id": "07cd27cd-647a-4f74-8dae-52ee216271a4",
   "metadata": {},
   "outputs": [],
   "source": [
    "with open('min_training_values','wb') as f:\n",
    "    pickle.dump(min(min_list),f)"
   ]
  }
 ],
 "metadata": {
  "kernelspec": {
   "display_name": "HEP with PyROOT",
   "language": "python",
   "name": "hep"
  },
  "language_info": {
   "codemirror_mode": {
    "name": "ipython",
    "version": 3
   },
   "file_extension": ".py",
   "mimetype": "text/x-python",
   "name": "python",
   "nbconvert_exporter": "python",
   "pygments_lexer": "ipython3",
   "version": "3.9.15"
  }
 },
 "nbformat": 4,
 "nbformat_minor": 5
}
